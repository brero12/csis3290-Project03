{
 "cells": [
  {
   "cell_type": "markdown",
   "metadata": {},
   "source": [
    "# Project 3\n",
    "## Composed Encrypted Malicious Traffic Dataset for machine learning based encrypted malicious traffic analysis\n",
    "### Dataset: bank sampled 9K\n",
    "\n",
    "### Group Members\n",
    "- Shedrach Ezenwali  300377414\n",
    "- Bryan Rodriguez    300369955\n",
    "- Hazel Ibasco       300366644\n",
    "- Nathaniel Pearson  300387657"
   ]
  },
  {
   "cell_type": "markdown",
   "metadata": {},
   "source": [
    "____"
   ]
  },
  {
   "cell_type": "markdown",
   "metadata": {},
   "source": [
    "____"
   ]
  },
  {
   "cell_type": "markdown",
   "metadata": {},
   "source": [
    "## Library-import"
   ]
  },
  {
   "cell_type": "code",
   "execution_count": 1,
   "metadata": {},
   "outputs": [],
   "source": [
    "import numpy as np\n",
    "import pandas as pd\n",
    "import matplotlib.pyplot as plt\n",
    "\n",
    "%matplotlib inline\n",
    "\n",
    "from datetime import datetime as dt\n",
    "\n",
    "from sklearn.model_selection import train_test_split\n",
    "from sklearn.linear_model import LogisticRegression\n",
    "from sklearn.svm import LinearSVC\n",
    "from sklearn.feature_selection import SelectKBest, mutual_info_classif\n",
    "from sklearn.preprocessing import StandardScaler\n",
    "from sklearn.preprocessing import RobustScaler\n",
    "from sklearn.compose import ColumnTransformer\n",
    "from sklearn.pipeline import Pipeline"
   ]
  },
  {
   "cell_type": "code",
   "execution_count": 2,
   "metadata": {},
   "outputs": [],
   "source": [
    "df = pd.read_csv(\"./Dataset/Project_Dataset.csv\")"
   ]
  },
  {
   "cell_type": "code",
   "execution_count": 3,
   "metadata": {},
   "outputs": [
    {
     "data": {
      "text/html": [
       "<div>\n",
       "<style scoped>\n",
       "    .dataframe tbody tr th:only-of-type {\n",
       "        vertical-align: middle;\n",
       "    }\n",
       "\n",
       "    .dataframe tbody tr th {\n",
       "        vertical-align: top;\n",
       "    }\n",
       "\n",
       "    .dataframe thead th {\n",
       "        text-align: right;\n",
       "    }\n",
       "</style>\n",
       "<table border=\"1\" class=\"dataframe\">\n",
       "  <thead>\n",
       "    <tr style=\"text-align: right;\">\n",
       "      <th></th>\n",
       "      <th>session</th>\n",
       "      <th>Flag_of_packets</th>\n",
       "      <th>Traffic_sequence</th>\n",
       "      <th>Payload_ratio</th>\n",
       "      <th>Length_of_IP_packets</th>\n",
       "      <th>Length_of_TCP_payload</th>\n",
       "      <th>Length_of_TCP_packet_header</th>\n",
       "      <th>Length_of_IP_packet_header</th>\n",
       "      <th>TCP_windows_size_value</th>\n",
       "      <th>Length_of_TCP_segment(packet)</th>\n",
       "      <th>...</th>\n",
       "      <th>std_backward_pkt_length</th>\n",
       "      <th>duration_forward</th>\n",
       "      <th>duration_back</th>\n",
       "      <th>mean_of_backward_IP_header</th>\n",
       "      <th>mean_of_forward_IP_header</th>\n",
       "      <th>total_payload_per_session</th>\n",
       "      <th>IPratio</th>\n",
       "      <th>Goodput</th>\n",
       "      <th>source_IP_address</th>\n",
       "      <th>Destination_IP_address</th>\n",
       "    </tr>\n",
       "  </thead>\n",
       "  <tbody>\n",
       "    <tr>\n",
       "      <th>0</th>\n",
       "      <td>66141</td>\n",
       "      <td>24</td>\n",
       "      <td>2279944530</td>\n",
       "      <td>0.905660</td>\n",
       "      <td>424</td>\n",
       "      <td>384</td>\n",
       "      <td>20</td>\n",
       "      <td>20</td>\n",
       "      <td>65535</td>\n",
       "      <td>404</td>\n",
       "      <td>...</td>\n",
       "      <td>586.204197</td>\n",
       "      <td>7.832529</td>\n",
       "      <td>6.262479</td>\n",
       "      <td>20.0</td>\n",
       "      <td>20.0</td>\n",
       "      <td>211878.0</td>\n",
       "      <td>36.500000</td>\n",
       "      <td>1177.711659</td>\n",
       "      <td>10.0.2.15</td>\n",
       "      <td>95.101.15.55</td>\n",
       "    </tr>\n",
       "    <tr>\n",
       "      <th>1</th>\n",
       "      <td>94061</td>\n",
       "      <td>24</td>\n",
       "      <td>3701792612</td>\n",
       "      <td>0.824916</td>\n",
       "      <td>297</td>\n",
       "      <td>245</td>\n",
       "      <td>32</td>\n",
       "      <td>20</td>\n",
       "      <td>4368</td>\n",
       "      <td>277</td>\n",
       "      <td>...</td>\n",
       "      <td>605.426490</td>\n",
       "      <td>29132.055096</td>\n",
       "      <td>29132.048757</td>\n",
       "      <td>20.0</td>\n",
       "      <td>20.0</td>\n",
       "      <td>35326.0</td>\n",
       "      <td>28.846154</td>\n",
       "      <td>0.536805</td>\n",
       "      <td>192.168.1.165</td>\n",
       "      <td>184.73.174.14</td>\n",
       "    </tr>\n",
       "    <tr>\n",
       "      <th>2</th>\n",
       "      <td>68533</td>\n",
       "      <td>16</td>\n",
       "      <td>2094088526</td>\n",
       "      <td>0.972603</td>\n",
       "      <td>1460</td>\n",
       "      <td>1420</td>\n",
       "      <td>20</td>\n",
       "      <td>20</td>\n",
       "      <td>65535</td>\n",
       "      <td>1440</td>\n",
       "      <td>...</td>\n",
       "      <td>360.076025</td>\n",
       "      <td>1.224812</td>\n",
       "      <td>1.281815</td>\n",
       "      <td>20.0</td>\n",
       "      <td>20.0</td>\n",
       "      <td>252568.0</td>\n",
       "      <td>37.500000</td>\n",
       "      <td>2015.054781</td>\n",
       "      <td>10.0.2.15</td>\n",
       "      <td>151.101.112.70</td>\n",
       "    </tr>\n",
       "    <tr>\n",
       "      <th>3</th>\n",
       "      <td>16275</td>\n",
       "      <td>24</td>\n",
       "      <td>1596612280</td>\n",
       "      <td>0.834025</td>\n",
       "      <td>241</td>\n",
       "      <td>201</td>\n",
       "      <td>20</td>\n",
       "      <td>20</td>\n",
       "      <td>1369</td>\n",
       "      <td>221</td>\n",
       "      <td>...</td>\n",
       "      <td>525.716548</td>\n",
       "      <td>0.407720</td>\n",
       "      <td>10.408007</td>\n",
       "      <td>20.0</td>\n",
       "      <td>20.0</td>\n",
       "      <td>9968.0</td>\n",
       "      <td>37.500000</td>\n",
       "      <td>1046.429906</td>\n",
       "      <td>10.42.0.151</td>\n",
       "      <td>115.239.210.141</td>\n",
       "    </tr>\n",
       "    <tr>\n",
       "      <th>4</th>\n",
       "      <td>16676</td>\n",
       "      <td>24</td>\n",
       "      <td>2320058429</td>\n",
       "      <td>0.851852</td>\n",
       "      <td>351</td>\n",
       "      <td>299</td>\n",
       "      <td>32</td>\n",
       "      <td>20</td>\n",
       "      <td>340</td>\n",
       "      <td>331</td>\n",
       "      <td>...</td>\n",
       "      <td>386.961310</td>\n",
       "      <td>0.720086</td>\n",
       "      <td>0.738152</td>\n",
       "      <td>20.0</td>\n",
       "      <td>20.0</td>\n",
       "      <td>229377.0</td>\n",
       "      <td>28.269231</td>\n",
       "      <td>834.932190</td>\n",
       "      <td>10.42.0.151</td>\n",
       "      <td>172.217.6.202</td>\n",
       "    </tr>\n",
       "  </tbody>\n",
       "</table>\n",
       "<p>5 rows × 113 columns</p>\n",
       "</div>"
      ],
      "text/plain": [
       "   session  Flag_of_packets  Traffic_sequence  Payload_ratio  \\\n",
       "0    66141               24        2279944530       0.905660   \n",
       "1    94061               24        3701792612       0.824916   \n",
       "2    68533               16        2094088526       0.972603   \n",
       "3    16275               24        1596612280       0.834025   \n",
       "4    16676               24        2320058429       0.851852   \n",
       "\n",
       "   Length_of_IP_packets  Length_of_TCP_payload  Length_of_TCP_packet_header  \\\n",
       "0                   424                    384                           20   \n",
       "1                   297                    245                           32   \n",
       "2                  1460                   1420                           20   \n",
       "3                   241                    201                           20   \n",
       "4                   351                    299                           32   \n",
       "\n",
       "   Length_of_IP_packet_header  TCP_windows_size_value  \\\n",
       "0                          20                   65535   \n",
       "1                          20                    4368   \n",
       "2                          20                   65535   \n",
       "3                          20                    1369   \n",
       "4                          20                     340   \n",
       "\n",
       "   Length_of_TCP_segment(packet)  ...  std_backward_pkt_length  \\\n",
       "0                            404  ...               586.204197   \n",
       "1                            277  ...               605.426490   \n",
       "2                           1440  ...               360.076025   \n",
       "3                            221  ...               525.716548   \n",
       "4                            331  ...               386.961310   \n",
       "\n",
       "   duration_forward  duration_back  mean_of_backward_IP_header  \\\n",
       "0          7.832529       6.262479                        20.0   \n",
       "1      29132.055096   29132.048757                        20.0   \n",
       "2          1.224812       1.281815                        20.0   \n",
       "3          0.407720      10.408007                        20.0   \n",
       "4          0.720086       0.738152                        20.0   \n",
       "\n",
       "   mean_of_forward_IP_header  total_payload_per_session    IPratio  \\\n",
       "0                       20.0                   211878.0  36.500000   \n",
       "1                       20.0                    35326.0  28.846154   \n",
       "2                       20.0                   252568.0  37.500000   \n",
       "3                       20.0                     9968.0  37.500000   \n",
       "4                       20.0                   229377.0  28.269231   \n",
       "\n",
       "       Goodput  source_IP_address  Destination_IP_address  \n",
       "0  1177.711659          10.0.2.15            95.101.15.55  \n",
       "1     0.536805      192.168.1.165           184.73.174.14  \n",
       "2  2015.054781          10.0.2.15          151.101.112.70  \n",
       "3  1046.429906        10.42.0.151         115.239.210.141  \n",
       "4   834.932190        10.42.0.151           172.217.6.202  \n",
       "\n",
       "[5 rows x 113 columns]"
      ]
     },
     "execution_count": 3,
     "metadata": {},
     "output_type": "execute_result"
    }
   ],
   "source": [
    "## A look of the data set\n",
    "df.head()"
   ]
  },
  {
   "cell_type": "code",
   "execution_count": 4,
   "metadata": {},
   "outputs": [
    {
     "name": "stdout",
     "output_type": "stream",
     "text": [
      "We have 26189 rows and 113 columns in the data set\n"
     ]
    }
   ],
   "source": [
    "## Let's get general information about the data, the shape and also the data type\n",
    "\n",
    "def get_data_description(df)->None:\n",
    "    '''Take a dataframe and prints out a consise \n",
    "    description based on the data shape'''\n",
    "    rows,cols = df.shape\n",
    "\n",
    "    print(f'We have {rows} rows and {cols} columns in the data set')\n",
    "\n",
    "get_data_description(df)\n",
    "\n"
   ]
  },
  {
   "cell_type": "code",
   "execution_count": 5,
   "metadata": {
    "scrolled": true
   },
   "outputs": [
    {
     "name": "stdout",
     "output_type": "stream",
     "text": [
      "<class 'pandas.core.frame.DataFrame'>\n",
      "RangeIndex: 26189 entries, 0 to 26188\n",
      "Columns: 113 entries, session to Destination_IP_address\n",
      "dtypes: float64(97), int64(14), object(2)\n",
      "memory usage: 22.6+ MB\n"
     ]
    }
   ],
   "source": [
    "## Checking of the data type of each column\n",
    "df.info()"
   ]
  },
  {
   "cell_type": "code",
   "execution_count": 6,
   "metadata": {},
   "outputs": [
    {
     "name": "stdout",
     "output_type": "stream",
     "text": [
      "(26189, 113)\n",
      "session: 0%\n",
      "Flag_of_packets: 0%\n",
      "Traffic_sequence: 0%\n",
      "Payload_ratio: 0%\n",
      "Length_of_IP_packets: 0%\n",
      "Length_of_TCP_payload: 0%\n",
      "Length_of_TCP_packet_header: 0%\n",
      "Length_of_IP_packet_header: 0%\n",
      "TCP_windows_size_value: 0%\n",
      "Length_of_TCP_segment(packet): 0%\n",
      "Time_difference_between_packets_per_session: 0%\n",
      "Change_values_of_TCP_windows_length_per_session: 0%\n",
      "Interval_of_arrival_time_of_forward_traffic: 0%\n",
      "Interval_of_arrival_time_of_backward_traffic: 0%\n",
      "Time_to_live: 0%\n",
      "Ratio_to_previous_packets_in_each_session: 0%\n",
      "Total_length_of_IP_packet_per_session: 0%\n",
      "Total_Time_to_live_per_session: 0%\n",
      "The_times_of_change_of_TCP_windows_length: 0%\n",
      "The_times_of_change_of_payload_per_session: 0%\n",
      "Total_length_of_forward_payload: 0%\n",
      "Total_length_of_backward_payload: 0%\n",
      "Total_length_of_forward_IP_header: 0%\n",
      "Total_length_of_backward_IP_header: 0%\n",
      "Total_length_of_forward_TCP_header: 0%\n",
      "Total_length_of_backward_TCP_header: 0%\n",
      "Total_length_of_forward_IP_packets: 0%\n",
      "Total_length_of_backward_IP_packets: 0%\n",
      "flow duration: 0%\n",
      "Packets_From_Clients: 0%\n",
      "Packets_From_Servers: 0%\n",
      "Bytes_From_Clients(IPpacket): 0%\n",
      "Bytes_From_Servers(IPpacket): 0%\n",
      "mean_Length_of_IP_packets: 0%\n",
      "median_Length_of_IP_packets: 0%\n",
      "max_Length_of_IP_packets: 0%\n",
      "min_Length_of_IP_packets: 0%\n",
      "std_Length_of_IP_packets: 0%\n",
      "var_Length_of_IP_packets: 0%\n",
      "mean_Length_of_TCP_payload: 0%\n",
      "median_Length_of_TCP_payload: 0%\n",
      "max_Length_of_TCP_payload: 0%\n",
      "min_Length_of_TCP_payload: 0%\n",
      "std_Length_of_TCP_payload: 0%\n",
      "var_Length_of_TCP_payload: 0%\n",
      "mean_Length_of_TCP_packet_header: 0%\n",
      "median_Length_of_TCP_packet_header: 0%\n",
      "max_Length_of_TCP_packet_header: 0%\n",
      "min_Length_of_TCP_packet_header: 0%\n",
      "std_Length_of_TCP_packet_header: 0%\n",
      "var_Length_of_TCP_packet_header: 0%\n",
      "mean_Length_of_IP_packet_header: 0%\n",
      "median_Length_of_IP_packet_header: 0%\n",
      "max_Length_of_IP_packet_header: 0%\n",
      "min_Length_of_IP_packet_header: 0%\n",
      "std_Length_of_IP_packet_header: 0%\n",
      "var_Length_of_IP_packet_header: 0%\n",
      "mean_TCP_windows_size_value: 0%\n",
      "median_TCP_windows_size_value: 0%\n",
      "max_TCP_windows_size_value: 0%\n",
      "min_TCP_windows_size_value: 0%\n",
      "std_TCP_windows_size_value: 0%\n",
      "var_TCP_windows_size_value: 0%\n",
      "mean_Length_of_TCP_segment(packet): 0%\n",
      "median_Length_of_TCP_segment(packet): 0%\n",
      "max_Length_of_TCP_segment(packet): 0%\n",
      "min_Length_of_TCP_segment(packet): 0%\n",
      "std_Length_of_TCP_segment(packet): 0%\n",
      "var_Length_of_TCP_segment(packet): 0%\n",
      "mean_Time_difference_between_packets_per_session: 0%\n",
      "median_Time_difference_between_packets_per_session: 0%\n",
      "max_Time_difference_between_packets_per_session: 0%\n",
      "min_Time_difference_between_packets_per_session: 0%\n",
      "std_Time_difference_between_packets_per_session: 0%\n",
      "var_Time_difference_between_packets_per_session: 0%\n",
      "mean_Change_values_of_TCP_windows_length_per_session: 0%\n",
      "median_Change_values_of_TCP_windows_length_per_session: 0%\n",
      "max_Change_values_of_TCP_windows_length_per_session: 0%\n",
      "min_Change_values_of_TCP_windows_length_per_session: 0%\n",
      "std_Change_values_of_TCP_windows_length_per_session: 0%\n",
      "var_Change_values_of_TCP_windows_length_per_session: 0%\n",
      "mean_Interval_of_arrival_time_of_forward_traffic: 0%\n",
      "median_Interval_of_arrival_time_of_forward_traffic: 0%\n",
      "max_Interval_of_arrival_time_of_forward_traffic: 0%\n",
      "min_Interval_of_arrival_time_of_forward_traffic: 0%\n",
      "std_Interval_of_arrival_time_of_forward_traffic: 0%\n",
      "var_Interval_of_arrival_time_of_forward_traffic: 0%\n",
      "mean_Interval_of_arrival_time_of_backward_traffic: 0%\n",
      "median_Interval_of_arrival_time_of_backward_traffic: 0%\n",
      "max_Interval_of_arrival_time_of_backward_traffic: 0%\n",
      "min_Interval_of_arrival_time_of_backward_traffic: 0%\n",
      "std_Interval_of_arrival_time_of_backward_traffic: 0%\n",
      "var_Interval_of_arrival_time_of_backward_traffic: 0%\n",
      "mean_time_to_live: 0%\n",
      "median_time_to_live: 0%\n",
      "max_time_to_live: 0%\n",
      "min_time_to_live: 0%\n",
      "std_time_to_live: 0%\n",
      "var_time_to_live: 0%\n",
      "label: 0%\n",
      "Destination_port: 0%\n",
      "Source_port: 0%\n",
      "std_forward_pkt_length: 0%\n",
      "std_backward_pkt_length: 0%\n",
      "duration_forward: 0%\n",
      "duration_back: 0%\n",
      "mean_of_backward_IP_header: 0%\n",
      "mean_of_forward_IP_header: 0%\n",
      "total_payload_per_session: 0%\n",
      "IPratio: 0%\n",
      "Goodput: 0%\n",
      "source_IP_address: 0%\n",
      "Destination_IP_address: 0%\n"
     ]
    }
   ],
   "source": [
    "## Getting the percentage of missing values in each column\n",
    "\n",
    "def check_cols_with_null(df):\n",
    "    '''Gets  dataframe and prints out percentage of missing values in each column'''\n",
    "    print(    df.shape)\n",
    "    for col in df.columns:\n",
    "        print(f'{col}: {format((df[col].isnull().sum()/df.shape[0])*100,\".0f\")}%')\n",
    "\n",
    "check_cols_with_null(df)"
   ]
  },
  {
   "cell_type": "markdown",
   "metadata": {},
   "source": [
    "## Creating-dummy-variables-for-each-categorical-feature"
   ]
  },
  {
   "cell_type": "code",
   "execution_count": 7,
   "metadata": {},
   "outputs": [],
   "source": [
    "# Identify categorical features\n",
    "categorical_columns = df.select_dtypes('object').columns\n",
    "\n",
    "# Create dummy variables for each categorical feature\n",
    "for column in categorical_columns:\n",
    "    # Create dummy variables with a prefix related to the original column name\n",
    "    dummies = pd.get_dummies(df[column], prefix=column, drop_first=True)\n",
    "    \n",
    "    # Rename columns using lambda to replace hyphen '-' with underscore '_'\n",
    "    dummies.columns = dummies.columns.map(lambda x: x.replace('-', '_'))\n",
    "    \n",
    "    # Concatenate the dummy variables to the original DataFrame\n",
    "    df = pd.concat([df, dummies], axis=1)\n",
    "    \n",
    "# Drop the original categorical columns\n",
    "df = df.drop(categorical_columns, axis=1)"
   ]
  },
  {
   "cell_type": "code",
   "execution_count": 8,
   "metadata": {},
   "outputs": [
    {
     "name": "stdout",
     "output_type": "stream",
     "text": [
      "<class 'pandas.core.frame.DataFrame'>\n",
      "RangeIndex: 26189 entries, 0 to 26188\n",
      "Columns: 3665 entries, session to Destination_IP_address_98.139.50.166\n",
      "dtypes: bool(3554), float64(97), int64(14)\n",
      "memory usage: 110.9 MB\n"
     ]
    }
   ],
   "source": [
    "df.info()"
   ]
  },
  {
   "cell_type": "markdown",
   "metadata": {},
   "source": [
    "____"
   ]
  },
  {
   "cell_type": "markdown",
   "metadata": {},
   "source": [
    "# Feature-Selection-and-Scaling"
   ]
  },
  {
   "cell_type": "markdown",
   "metadata": {},
   "source": [
    "Performing feature selection from the dataset. "
   ]
  },
  {
   "cell_type": "code",
   "execution_count": 9,
   "metadata": {},
   "outputs": [],
   "source": [
    "# Separate features and target variable\n",
    "X = df.drop('label', axis=1)  \n",
    "Y = df['label']"
   ]
  },
  {
   "cell_type": "markdown",
   "metadata": {},
   "source": [
    "## LogisticRegression"
   ]
  },
  {
   "cell_type": "code",
   "execution_count": 10,
   "metadata": {},
   "outputs": [],
   "source": [
    "#split the dataset\n",
    "X_train, X_test, Y_train, Y_test = train_test_split(X,Y, test_size=0.2, random_state=42)"
   ]
  },
  {
   "cell_type": "markdown",
   "metadata": {},
   "source": [
    "#### Creating pipelines for each feature selection method"
   ]
  },
  {
   "cell_type": "code",
   "execution_count": 11,
   "metadata": {},
   "outputs": [],
   "source": [
    "# Logistic Regression\n",
    "lr_pipe = Pipeline([\n",
    "    ('scaler', RobustScaler()),\n",
    "    ('feature_selection', LogisticRegression(max_iter=1000)),\n",
    "])"
   ]
  },
  {
   "cell_type": "markdown",
   "metadata": {},
   "source": [
    "## Linear SVM (please use regularization hyperparameter value 0.001"
   ]
  },
  {
   "cell_type": "code",
   "execution_count": 12,
   "metadata": {},
   "outputs": [],
   "source": [
    "# Linear SVM\n",
    "svm_pipe = Pipeline([\n",
    "    ('scaler', RobustScaler()),\n",
    "    ('feature_selection', LinearSVC(C=0.001, max_iter=1000)),\n",
    "])"
   ]
  },
  {
   "cell_type": "markdown",
   "metadata": {},
   "source": [
    "## SelectKBest with mutual_info_classif as the score metric,\n",
    "### with the number of features to be selected equal to 10"
   ]
  },
  {
   "cell_type": "code",
   "execution_count": 13,
   "metadata": {},
   "outputs": [],
   "source": [
    "# SelectKBest\n",
    "kbest_pipe = Pipeline([\n",
    "    ('scaler', RobustScaler()),\n",
    "    ('feature_selection', SelectKBest(mutual_info_classif, k=10)),\n",
    "])"
   ]
  },
  {
   "cell_type": "markdown",
   "metadata": {},
   "source": [
    "### Find the method with the best number of features"
   ]
  },
  {
   "cell_type": "code",
   "execution_count": 14,
   "metadata": {},
   "outputs": [],
   "source": [
    "# Fit the models and get selected features\n",
    "\n",
    "# Random Forest "
   ]
  },
  {
   "cell_type": "markdown",
   "metadata": {},
   "source": [
    "____"
   ]
  },
  {
   "cell_type": "markdown",
   "metadata": {},
   "source": [
    "____"
   ]
  },
  {
   "cell_type": "markdown",
   "metadata": {},
   "source": [
    "___"
   ]
  },
  {
   "cell_type": "markdown",
   "metadata": {},
   "source": [
    "___"
   ]
  },
  {
   "cell_type": "markdown",
   "metadata": {},
   "source": [
    "____"
   ]
  },
  {
   "cell_type": "markdown",
   "metadata": {},
   "source": [
    "____"
   ]
  }
 ],
 "metadata": {
  "kernelspec": {
   "display_name": "Python 3 (ipykernel)",
   "language": "python",
   "name": "python3"
  },
  "language_info": {
   "codemirror_mode": {
    "name": "ipython",
    "version": 3
   },
   "file_extension": ".py",
   "mimetype": "text/x-python",
   "name": "python",
   "nbconvert_exporter": "python",
   "pygments_lexer": "ipython3",
   "version": "3.11.5"
  }
 },
 "nbformat": 4,
 "nbformat_minor": 2
}
